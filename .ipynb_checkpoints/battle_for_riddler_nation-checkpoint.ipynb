{
 "cells": [
  {
   "cell_type": "markdown",
   "metadata": {},
   "source": [
    "# Battle for Riddler Nation!\n",
    "## Riddler Classic May 19 2017\n",
    "\n",
    "Simulate [castle game from Riddler](http://fivethirtyeight.com/features/the-battle-for-riddler-nation-round-2/)\n",
    "Create two classes, a `Player` and a `Castle`. Then we assign the soldiers to the castles and evaluate the result. \n",
    "\n",
    "## Classes"
   ]
  },
  {
   "cell_type": "code",
   "execution_count": 6,
   "metadata": {
    "collapsed": true
   },
   "outputs": [],
   "source": [
    "class Player(object):\n",
    "    def __init__(self, name, assignment, points=0):\n",
    "        self.name = 'Player {}'.format(name)\n",
    "        self.assignment = assignment\n",
    "        self.points=0\n",
    "        # assignment is an array\n",
    "        \n",
    "    def deploy_troops_randomly(self):\n",
    "        from numpy.random import randint, permutation\n",
    "        order = []\n",
    "        soldiers_remaining = 101\n",
    "        for i in range(10):\n",
    "            soldiers = randint(0, soldiers_remaining)\n",
    "            order.append(soldiers)\n",
    "            soldiers_remaining -= soldiers\n",
    "            if soldiers_remaining < 0:\n",
    "                remains = 10 - len(order)\n",
    "                for i in range(remains):\n",
    "                    order.append(0)\n",
    "               \n",
    "        self.assignment = permutation(order)\n",
    "        return np.array(self.assignment)\n",
    "            \n",
    "            \n",
    "class Castle(object):\n",
    "    # create the castles for the competition\n",
    "    def __init__(self, name, points, soldiers_1, soldiers_2):\n",
    "        self.name = name\n",
    "        self.points = points\n",
    "        self.soldiers_1 = soldiers_1\n",
    "        self.soldiers_2 = soldiers_2\n",
    "        \n",
    "    def battle(self, player_1, player_2):\n",
    "        if self.soldiers_1 > self.soldiers_2:\n",
    "            player_1.points += self.points\n",
    "        if self.soldiers_1 < self.soldiers_2:\n",
    "            player_2.points += self.points\n",
    "        if self.soldiers_1 == self.soldiers_2:\n",
    "            player_1.points += self.points/2.0\n",
    "            player_2.points += self.points/2.0\n",
    "    def info(self):\n",
    "        print(\"Castle Name: {}\".format(self.name), \"Victory Points: {}\".format(self.points), \n",
    "              \"Player 1 Soldiers: {}\".format(self.soldiers_1), \"Player 2 Soldiers: {}\".format(self.soldiers_2), '\\n', sep='\\n',)"
   ]
  },
  {
   "cell_type": "markdown",
   "metadata": {},
   "source": [
    "## Functions"
   ]
  },
  {
   "cell_type": "code",
   "execution_count": 7,
   "metadata": {
    "collapsed": true
   },
   "outputs": [],
   "source": [
    "def Play_normal(player_1, player_2, verbose=0):\n",
    "    player_1_assignment = player_1.assignment\n",
    "    player_2_assignment = player_2.assignment\n",
    "    castle_dict = {}\n",
    "    for i in range(10):\n",
    "        castle_dict['Castle {}'.format(i+1)] = Castle(name='Castle {}'.format(i+1), points = i+1, soldiers_1=player_1_assignment[i], soldiers_2=player_2_assignment[i])\n",
    "    for castle in castle_dict.values():\n",
    "        if verbose>0: castle.info()\n",
    "        castle.battle(player_1, player_2)\n",
    "    print(player_1.name, \":\", player_1.points, player_2.name,\":\", player_2.points)\n",
    "    if player_1.points>player_2.points: print(player_1.name, 'Wins!')\n",
    "    elif player_1.points<player_2.points: print(player_2.name, 'Wins!')\n",
    "    else: print(\"TIE?!\")\n",
    "        \n",
    "def Play_random(player_1, player_2, verbose=0):\n",
    "    player_1.deploy_troops_randomly()\n",
    "    player_2.deploy_troops_randomly()\n",
    "    player_1_assignment = player_1.assignment\n",
    "    player_2_assignment = player_2.assignment\n",
    "    castle_dict = {}\n",
    "    for i in range(10):\n",
    "        castle_dict['Castle {}'.format(i+1)] = Castle(name='Castle {}'.format(i+1), points = i+1, soldiers_1=player_1_assignment[i], soldiers_2=player_2_assignment[i])\n",
    "    for castle in castle_dict.values():\n",
    "        if verbose>0: castle.info()\n",
    "        castle.battle(player_1, player_2)\n",
    "    print(player_1.name, \":\", player_1.points, player_2.name,\":\", player_2.points)\n",
    "    if player_1.points>player_2.points: print(player_1.name, 'Wins!')\n",
    "    elif player_1.points<player_2.points: print(player_2.name, 'Wins!')\n",
    "    else: print(\"TIE?!\")\n",
    "    \n",
    "        "
   ]
  },
  {
   "cell_type": "markdown",
   "metadata": {},
   "source": [
    "## One simulation"
   ]
  },
  {
   "cell_type": "code",
   "execution_count": 25,
   "metadata": {
    "collapsed": true
   },
   "outputs": [],
   "source": [
    "p1 = Player('Adam', None)\n",
    "p2 = Player('Matthew', None)\n",
    "import numpy as np"
   ]
  },
  {
   "cell_type": "code",
   "execution_count": 24,
   "metadata": {},
   "outputs": [
    {
     "name": "stdout",
     "output_type": "stream",
     "text": [
      "Player Adam : 56.5 Player Matthew : 53.5\n",
      "Player Adam Wins!\n"
     ]
    }
   ],
   "source": [
    "Play_random(p1,p2, verbose=0)"
   ]
  },
  {
   "cell_type": "code",
   "execution_count": 26,
   "metadata": {},
   "outputs": [
    {
     "name": "stdout",
     "output_type": "stream",
     "text": [
      "Castle Name: Castle 1\n",
      "Victory Points: 1\n",
      "Player 1 Soldiers: 0\n",
      "Player 2 Soldiers: 5\n",
      "\n",
      "\n",
      "Castle Name: Castle 2\n",
      "Victory Points: 2\n",
      "Player 1 Soldiers: 0\n",
      "Player 2 Soldiers: 2\n",
      "\n",
      "\n",
      "Castle Name: Castle 3\n",
      "Victory Points: 3\n",
      "Player 1 Soldiers: 9\n",
      "Player 2 Soldiers: 74\n",
      "\n",
      "\n",
      "Castle Name: Castle 4\n",
      "Victory Points: 4\n",
      "Player 1 Soldiers: 0\n",
      "Player 2 Soldiers: 3\n",
      "\n",
      "\n",
      "Castle Name: Castle 5\n",
      "Victory Points: 5\n",
      "Player 1 Soldiers: 0\n",
      "Player 2 Soldiers: 7\n",
      "\n",
      "\n",
      "Castle Name: Castle 6\n",
      "Victory Points: 6\n",
      "Player 1 Soldiers: 25\n",
      "Player 2 Soldiers: 8\n",
      "\n",
      "\n",
      "Castle Name: Castle 7\n",
      "Victory Points: 7\n",
      "Player 1 Soldiers: 0\n",
      "Player 2 Soldiers: 0\n",
      "\n",
      "\n",
      "Castle Name: Castle 8\n",
      "Victory Points: 8\n",
      "Player 1 Soldiers: 0\n",
      "Player 2 Soldiers: 1\n",
      "\n",
      "\n",
      "Castle Name: Castle 9\n",
      "Victory Points: 9\n",
      "Player 1 Soldiers: 0\n",
      "Player 2 Soldiers: 0\n",
      "\n",
      "\n",
      "Castle Name: Castle 10\n",
      "Victory Points: 10\n",
      "Player 1 Soldiers: 66\n",
      "Player 2 Soldiers: 0\n",
      "\n",
      "\n",
      "Player Adam : 24.0 Player Matthew : 31.0\n",
      "Player Matthew Wins!\n"
     ]
    }
   ],
   "source": [
    "Play_random(p1,p2, verbose=10)"
   ]
  },
  {
   "cell_type": "code",
   "execution_count": null,
   "metadata": {
    "collapsed": true
   },
   "outputs": [],
   "source": []
  }
 ],
 "metadata": {
  "kernelspec": {
   "display_name": "Python 3",
   "language": "python",
   "name": "python3"
  },
  "language_info": {
   "codemirror_mode": {
    "name": "ipython",
    "version": 3
   },
   "file_extension": ".py",
   "mimetype": "text/x-python",
   "name": "python",
   "nbconvert_exporter": "python",
   "pygments_lexer": "ipython3",
   "version": "3.6.0"
  }
 },
 "nbformat": 4,
 "nbformat_minor": 2
}
