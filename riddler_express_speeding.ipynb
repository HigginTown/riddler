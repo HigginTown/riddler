{
 "cells": [
  {
   "cell_type": "markdown",
   "metadata": {},
   "source": [
    "# Riddler: Speeding to Work\n",
    "May 19th 2017 [Riddler Express](http://fivethirtyeight.com/features/the-battle-for-riddler-nation-round-2/)"
   ]
  },
  {
   "cell_type": "code",
   "execution_count": 1,
   "metadata": {},
   "outputs": [],
   "source": [
    "import numpy as np\n",
    "from numpy import random"
   ]
  },
  {
   "cell_type": "markdown",
   "metadata": {},
   "source": [
    "Create the `Driver` class for the simulation. The driver will have a `name`, a number 0 < `caught_speeding` < 1 which describes the probability that they will be caught speeding, and `alive` which indicates whether or not they've been caught. "
   ]
  },
  {
   "cell_type": "code",
   "execution_count": 2,
   "metadata": {
    "collapsed": true
   },
   "outputs": [],
   "source": [
    "class Driver(object):\n",
    "    def __init__(self, name, caught_speeding, alive):\n",
    "        self.name = 'Driver {}'.format(name)\n",
    "        self.caught_speeding = caught_speeding\n",
    "        self.alive = alive\n",
    "    \n",
    "    def drive(self, verbose=0):\n",
    "        probability = self.caught_speeding\n",
    "        police = random.random()\n",
    "        if verbose>0: print(\"Police score:\", police)\n",
    "        if police <= probability:\n",
    "            self.alive = 0\n",
    "            if verbose>0: print(\"{} has been caught, life is {}\".format(self.name,self.alive))\n",
    "        "
   ]
  },
  {
   "cell_type": "markdown",
   "metadata": {},
   "source": [
    "Now we can create the four drivers and set their probabilities. "
   ]
  },
  {
   "cell_type": "code",
   "execution_count": 3,
   "metadata": {},
   "outputs": [],
   "source": [
    "A = Driver('A', caught_speeding=.10, alive=1)\n",
    "B = Driver('B', caught_speeding=.15, alive=1)\n",
    "C = Driver('C', caught_speeding=.20, alive=1)\n",
    "D = Driver('D', caught_speeding=.25, alive=1)\n",
    "\n",
    "initial_drivers = [A, B, C, D]"
   ]
  },
  {
   "cell_type": "markdown",
   "metadata": {},
   "source": [
    "Now we need to write a function which will play out the game. "
   ]
  },
  {
   "cell_type": "code",
   "execution_count": 4,
   "metadata": {},
   "outputs": [],
   "source": [
    "def Play(drivers, verbose=0, dverbose=0, count=0, initialize=True):\n",
    "    # initialize drivers\n",
    "    if initialize==True:\n",
    "        for driver in drivers:\n",
    "            driver.alive = 1\n",
    "    if verbose>0: print(\"Initial Drivers are {}\".format([driver.name for driver in drivers]), \"\\n\")\n",
    "    while len(drivers) > 0:\n",
    "        selected_driver = random.choice(drivers)\n",
    "        if verbose>0: print('{} is driving!'.format(selected_driver.name), \"\\n\")\n",
    "        selected_driver.drive(verbose=dverbose)\n",
    "        living_drivers = []\n",
    "        for driver in drivers:\n",
    "            if driver.alive == 1:\n",
    "                living_drivers.append(driver)\n",
    "            if verbose>0 and driver.alive == 0:\n",
    "                print('{} is caught!'.format(selected_driver.name))\n",
    "        drivers = living_drivers\n",
    "        if verbose>0:\n",
    "            print(\"There are {} living drivers\".format(len(drivers)), [driver.name for driver in drivers], \"\\n\")\n",
    "        \n",
    "        count+=1\n",
    "        if verbose>0: print(\"{} trips completed\".format(count))\n",
    "    return count\n",
    "            \n",
    "    \n",
    "    "
   ]
  },
  {
   "cell_type": "code",
   "execution_count": 5,
   "metadata": {
    "scrolled": false
   },
   "outputs": [
    {
     "data": {
      "text/plain": [
       "19"
      ]
     },
     "execution_count": 5,
     "metadata": {},
     "output_type": "execute_result"
    }
   ],
   "source": [
    "Play(initial_drivers)"
   ]
  },
  {
   "cell_type": "markdown",
   "metadata": {},
   "source": [
    "Change the `verbose` and `dverbose` settings to see the full game. \n",
    "## Run the game 20,000 times and plot the results"
   ]
  },
  {
   "cell_type": "code",
   "execution_count": 7,
   "metadata": {
    "collapsed": true
   },
   "outputs": [],
   "source": [
    "import pandas as pd\n",
    "import matplotlib.pylab as plt\n"
   ]
  },
  {
   "cell_type": "code",
   "execution_count": 17,
   "metadata": {},
   "outputs": [],
   "source": [
    "trip_counts = []\n",
    "for i in range(20000):\n",
    "    trips = Play(initial_drivers)\n",
    "    trip_counts.append(trips)\n",
    "trip_counts = pd.Series(trip_counts)\n",
    "trip_counts.name = 'trip_counts'\n"
   ]
  },
  {
   "cell_type": "code",
   "execution_count": 18,
   "metadata": {},
   "outputs": [
    {
     "data": {
      "image/png": "[encoded data removed]",
      "text/plain": [
       "<matplotlib.figure.Figure at 0x27615587278>"
      ]
     },
     "metadata": {},
     "output_type": "display_data"
    }
   ],
   "source": [
    "trip_counts.hist()\n",
    "plt.show()"
   ]
  },
  {
   "cell_type": "code",
   "execution_count": 19,
   "metadata": {},
   "outputs": [
    {
     "data": {
      "text/plain": [
       "count    20000.000000\n",
       "mean        25.708350\n",
       "std         12.516794\n",
       "min          4.000000\n",
       "25%         17.000000\n",
       "50%         23.000000\n",
       "75%         32.000000\n",
       "max        131.000000\n",
       "Name: trip_counts, dtype: float64"
      ]
     },
     "execution_count": 19,
     "metadata": {},
     "output_type": "execute_result"
    }
   ],
   "source": [
    "trip_counts.describe()"
   ]
  },
  {
   "cell_type": "code",
   "execution_count": null,
   "metadata": {
    "collapsed": true
   },
   "outputs": [],
   "source": []
  }
 ],
 "metadata": {
  "kernelspec": {
   "display_name": "Python 3",
   "language": "python",
   "name": "python3"
  },
  "language_info": {
   "codemirror_mode": {
    "name": "ipython",
    "version": 3
   },
   "file_extension": ".py",
   "mimetype": "text/x-python",
   "name": "python",
   "nbconvert_exporter": "python",
   "pygments_lexer": "ipython3",
   "version": "3.6.0"
  }
 },
 "nbformat": 4,
 "nbformat_minor": 2
}
