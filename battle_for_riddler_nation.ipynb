{
 "cells": [
  {
   "cell_type": "markdown",
   "metadata": {},
   "source": [
    "# Battle for Riddler Nation!\n",
    "## Riddler Classic May 19 2017\n",
    "\n",
    "Simulate [castle game from Riddler](http://fivethirtyeight.com/features/the-battle-for-riddler-nation-round-2/)\n",
    "Create two classes, a `Player` and a `Castle`. Then we assign the soldiers to the castles and evaluate the result. I'll do 10,000 simulations. \n",
    "\n",
    "## Classes"
   ]
  },
  {
   "cell_type": "code",
   "execution_count": 1,
   "metadata": {
    "collapsed": true
   },
   "outputs": [],
   "source": [
    "class Player(object):\n",
    "    def __init__(self, name, assignment, points=0):\n",
    "        self.name = 'Player {}'.format(name)\n",
    "        self.assignment = assignment\n",
    "        self.points=0\n",
    "        \n",
    "    def deploy_troops_randomly(self):\n",
    "        from numpy.random import randint, permutation\n",
    "        order = []\n",
    "        soldiers_remaining = 101\n",
    "        for i in range(10):\n",
    "            soldiers = randint(0, soldiers_remaining)\n",
    "            if soldiers > 70:\n",
    "                soldiers = randint(0, soldiers_remaining-29) # helps to control for large assignments to one base\n",
    "            order.append(soldiers)\n",
    "            soldiers_remaining -= soldiers\n",
    "            if soldiers_remaining < 0:\n",
    "                remains = 10 - len(order)\n",
    "                for i in range(remains):\n",
    "                    order.append(0)\n",
    "               \n",
    "        self.assignment = permutation(order)\n",
    "        return np.array(self.assignment)\n",
    "            \n",
    "            \n",
    "class Castle(object):\n",
    "    # create the castles for the competition\n",
    "    def __init__(self, name, points, soldiers_1, soldiers_2):\n",
    "        self.name = name\n",
    "        self.points = points\n",
    "        self.soldiers_1 = soldiers_1\n",
    "        self.soldiers_2 = soldiers_2\n",
    "        \n",
    "    def battle(self, player_1, player_2):\n",
    "        if self.soldiers_1 > self.soldiers_2:\n",
    "            player_1.points += self.points\n",
    "        if self.soldiers_1 < self.soldiers_2:\n",
    "            player_2.points += self.points\n",
    "        if self.soldiers_1 == self.soldiers_2:\n",
    "            player_1.points += self.points/2.0\n",
    "            player_2.points += self.points/2.0\n",
    "    def info(self):\n",
    "        print(\"Castle Name: {}\".format(self.name), \"Victory Points: {}\".format(self.points), \n",
    "              \"Player 1 Soldiers: {}\".format(self.soldiers_1), \"Player 2 Soldiers: {}\".format(self.soldiers_2), '\\n', sep='\\n',)"
   ]
  },
  {
   "cell_type": "markdown",
   "metadata": {},
   "source": [
    "## Functions and gameplay"
   ]
  },
  {
   "cell_type": "code",
   "execution_count": 2,
   "metadata": {
    "collapsed": true
   },
   "outputs": [],
   "source": [
    "def Play_normal(player_1, player_2, verbose=0):\n",
    "    player_1.points=0\n",
    "    player_2.points=0\n",
    "    player_1.deploy_troops_randomly()\n",
    "    player_2.deploy_troops_randomly()\n",
    "    player_1_assignment = player_1.assignment\n",
    "    player_2_assignment = player_2.assignment\n",
    "    castle_dict = {}\n",
    "    for i in range(10):\n",
    "        castle_dict['Castle {}'.format(i+1)] = Castle(name='Castle {}'.format(i+1), points = i+1, soldiers_1=player_1_assignment[i], soldiers_2=player_2_assignment[i])\n",
    "    for castle in castle_dict.values():\n",
    "        if verbose>0: castle.info()\n",
    "        castle.battle(player_1, player_2)\n",
    "    if verbose>0: \n",
    "        print(player_1.name, \":\", player_1.points, player_2.name,\":\", player_2.points)\n",
    "        if player_1.points>player_2.points: print(player_1.name, 'Wins!')\n",
    "        elif player_1.points<player_2.points: print(player_2.name, 'Wins!')\n",
    "        else: print(\"TIE?!\")\n",
    "    if player_1.points>player_2.points: winner=player_1.name\n",
    "    if player_1.points<player_2.points: winner=player_2.name\n",
    "    elif player_1.points==player_2.points: winner = 0\n",
    "    \n",
    "    return (player_1_assignment, player_2_assignment, player_1.points, player_2.points, winner)\n",
    "    \n",
    "        \n",
    "def Play_random(player_1, player_2, verbose=0):\n",
    "    player_1.points=0\n",
    "    player_2.points=0\n",
    "    player_1.deploy_troops_randomly()\n",
    "    player_2.deploy_troops_randomly()\n",
    "    player_1_assignment = player_1.assignment\n",
    "    player_2_assignment = player_2.assignment\n",
    "    castle_dict = {}\n",
    "    for i in range(10):\n",
    "        castle_dict['Castle {}'.format(i+1)] = Castle(name='Castle {}'.format(i+1), points = i+1, soldiers_1=player_1_assignment[i], soldiers_2=player_2_assignment[i])\n",
    "    for castle in castle_dict.values():\n",
    "        if verbose>0: castle.info()\n",
    "        castle.battle(player_1, player_2)\n",
    "    if verbose>0: \n",
    "        print(player_1.name, \":\", player_1.points, player_2.name,\":\", player_2.points)\n",
    "        if player_1.points>player_2.points: print(player_1.name, 'Wins!')\n",
    "        elif player_1.points<player_2.points: print(player_2.name, 'Wins!')\n",
    "        else: print(\"TIE?!\")\n",
    "    if player_1.points>player_2.points: winner=player_1.name\n",
    "    if player_1.points<player_2.points: winner=player_2.name\n",
    "    elif player_1.points==player_2.points: winner = 0\n",
    "    \n",
    "    return (player_1_assignment, player_2_assignment, player_1.points, player_2.points, winner)\n",
    "    \n",
    "def test_strat(player_1, player_2, verbose=0):\n",
    "    player_1.points=0\n",
    "    player_2.points=0\n",
    "    # player_1.deploy_troops_randomly() ## this means we'll compare one distribution against random\n",
    "    player_2.deploy_troops_randomly()\n",
    "    player_1_assignment = player_1.assignment\n",
    "    player_2_assignment = player_2.assignment\n",
    "    castle_dict = {}\n",
    "    for i in range(10):\n",
    "        castle_dict['Castle {}'.format(i+1)] = Castle(name='Castle {}'.format(i+1), points = i+1, soldiers_1=player_1_assignment[i], soldiers_2=player_2_assignment[i])\n",
    "    for castle in castle_dict.values():\n",
    "        if verbose>0: castle.info()\n",
    "        castle.battle(player_1, player_2)\n",
    "    if verbose>0: \n",
    "        print(player_1.name, \":\", player_1.points, player_2.name,\":\", player_2.points)\n",
    "        if player_1.points>player_2.points: print(player_1.name, 'Wins!')\n",
    "        elif player_1.points<player_2.points: print(player_2.name, 'Wins!')\n",
    "        else: print(\"TIE?!\")\n",
    "    if player_1.points>player_2.points: winner=player_1.name\n",
    "    if player_1.points<player_2.points: winner=player_2.name\n",
    "    elif player_1.points==player_2.points: winner = 0\n",
    "    \n",
    "    return (player_1_assignment, player_2_assignment, player_1.points, player_2.points, winner)\n",
    "          "
   ]
  },
  {
   "cell_type": "markdown",
   "metadata": {},
   "source": [
    "## One simulation"
   ]
  },
  {
   "cell_type": "code",
   "execution_count": 3,
   "metadata": {
    "collapsed": true
   },
   "outputs": [],
   "source": [
    "p1 = Player('Adam', None)\n",
    "p2 = Player('Evil Invader', None)\n",
    "import numpy as np"
   ]
  },
  {
   "cell_type": "code",
   "execution_count": 4,
   "metadata": {
    "scrolled": true
   },
   "outputs": [
    {
     "data": {
      "text/plain": [
       "(array([ 0,  2,  0, 11,  0, 63,  0,  0,  0, 24]),\n",
       " array([ 0,  0,  5,  0, 65, 21,  5,  0,  2,  2]),\n",
       " 26.5,\n",
       " 28.5,\n",
       " 'Player Evil Invader')"
      ]
     },
     "execution_count": 4,
     "metadata": {},
     "output_type": "execute_result"
    }
   ],
   "source": [
    "Play_random(p1,p2, verbose=0)"
   ]
  },
  {
   "cell_type": "markdown",
   "metadata": {},
   "source": [
    "## Many simulations and EDA"
   ]
  },
  {
   "cell_type": "code",
   "execution_count": 5,
   "metadata": {
    "collapsed": true
   },
   "outputs": [],
   "source": [
    "import pandas as pd\n",
    "import matplotlib.pyplot as plt\n",
    "plt.style.use('ggplot')\n",
    "%matplotlib inline"
   ]
  },
  {
   "cell_type": "code",
   "execution_count": 6,
   "metadata": {},
   "outputs": [],
   "source": [
    "games = {}\n",
    "for i in range(10000):\n",
    "    games['game_{}'.format(i)] = Play_random(p1,p2, verbose=0)"
   ]
  },
  {
   "cell_type": "code",
   "execution_count": 7,
   "metadata": {
    "collapsed": true
   },
   "outputs": [],
   "source": [
    "df = pd.DataFrame(games).T\n",
    "df.columns = ['distribution_1', 'distribution_2', 'points_1', 'points_2', 'winner']"
   ]
  },
  {
   "cell_type": "code",
   "execution_count": 8,
   "metadata": {},
   "outputs": [
    {
     "data": {
      "text/html": [
       "<div>\n",
       "<table border=\"1\" class=\"dataframe\">\n",
       "  <thead>\n",
       "    <tr style=\"text-align: right;\">\n",
       "      <th></th>\n",
       "      <th>distribution_1</th>\n",
       "      <th>distribution_2</th>\n",
       "      <th>points_1</th>\n",
       "      <th>points_2</th>\n",
       "      <th>winner</th>\n",
       "    </tr>\n",
       "  </thead>\n",
       "  <tbody>\n",
       "    <tr>\n",
       "      <th>game_3309</th>\n",
       "      <td>[0, 42, 4, 19, 2, 3, 0, 0, 4, 26]</td>\n",
       "      <td>[0, 51, 0, 0, 0, 11, 1, 37, 0, 0]</td>\n",
       "      <td>31.5</td>\n",
       "      <td>23.5</td>\n",
       "      <td>Player Adam</td>\n",
       "    </tr>\n",
       "    <tr>\n",
       "      <th>game_236</th>\n",
       "      <td>[3, 0, 44, 0, 0, 45, 0, 0, 8, 0]</td>\n",
       "      <td>[30, 7, 0, 0, 59, 0, 2, 2, 0, 0]</td>\n",
       "      <td>25</td>\n",
       "      <td>30</td>\n",
       "      <td>Player Evil Invader</td>\n",
       "    </tr>\n",
       "    <tr>\n",
       "      <th>game_3429</th>\n",
       "      <td>[0, 9, 26, 0, 12, 0, 7, 1, 4, 41]</td>\n",
       "      <td>[0, 9, 6, 2, 25, 26, 0, 2, 30, 0]</td>\n",
       "      <td>21.5</td>\n",
       "      <td>33.5</td>\n",
       "      <td>Player Evil Invader</td>\n",
       "    </tr>\n",
       "    <tr>\n",
       "      <th>game_7539</th>\n",
       "      <td>[7, 16, 4, 1, 0, 0, 49, 21, 0, 2]</td>\n",
       "      <td>[46, 0, 0, 37, 10, 0, 0, 0, 7, 0]</td>\n",
       "      <td>33</td>\n",
       "      <td>22</td>\n",
       "      <td>Player Adam</td>\n",
       "    </tr>\n",
       "  </tbody>\n",
       "</table>\n",
       "</div>"
      ],
      "text/plain": [
       "                              distribution_1  \\\n",
       "game_3309  [0, 42, 4, 19, 2, 3, 0, 0, 4, 26]   \n",
       "game_236    [3, 0, 44, 0, 0, 45, 0, 0, 8, 0]   \n",
       "game_3429  [0, 9, 26, 0, 12, 0, 7, 1, 4, 41]   \n",
       "game_7539  [7, 16, 4, 1, 0, 0, 49, 21, 0, 2]   \n",
       "\n",
       "                              distribution_2 points_1 points_2  \\\n",
       "game_3309  [0, 51, 0, 0, 0, 11, 1, 37, 0, 0]     31.5     23.5   \n",
       "game_236    [30, 7, 0, 0, 59, 0, 2, 2, 0, 0]       25       30   \n",
       "game_3429  [0, 9, 6, 2, 25, 26, 0, 2, 30, 0]     21.5     33.5   \n",
       "game_7539  [46, 0, 0, 37, 10, 0, 0, 0, 7, 0]       33       22   \n",
       "\n",
       "                        winner  \n",
       "game_3309          Player Adam  \n",
       "game_236   Player Evil Invader  \n",
       "game_3429  Player Evil Invader  \n",
       "game_7539          Player Adam  "
      ]
     },
     "execution_count": 8,
     "metadata": {},
     "output_type": "execute_result"
    }
   ],
   "source": [
    "df.sample(4)"
   ]
  },
  {
   "cell_type": "code",
   "execution_count": 9,
   "metadata": {},
   "outputs": [],
   "source": [
    "def get_castle_scores(series):\n",
    "    distribution_set = series.values # get the distribution arrays\n",
    "    distribuion_dict = {} #store them in a new dict\n",
    "    for i in range(10):\n",
    "        distribuion_dict['castle_{}'.format(i+1)] = []\n",
    "    for distribution in distribution_set:\n",
    "        for i in range(10):\n",
    "            distribuion_dict['castle_{}'.format(i+1)].append(distribution[i])\n",
    "    return distribuion_dict          "
   ]
  },
  {
   "cell_type": "code",
   "execution_count": 10,
   "metadata": {
    "collapsed": true
   },
   "outputs": [],
   "source": [
    "player_1_distributions = get_castle_scores(df.distribution_1)\n",
    "player_2_distributions = get_castle_scores(df.distribution_2)"
   ]
  },
  {
   "cell_type": "code",
   "execution_count": 11,
   "metadata": {},
   "outputs": [],
   "source": [
    "p1_df = pd.DataFrame(player_1_distributions)\n",
    "p2_df = pd.DataFrame(player_2_distributions)"
   ]
  },
  {
   "cell_type": "code",
   "execution_count": 12,
   "metadata": {},
   "outputs": [
    {
     "data": {
      "text/html": [
       "<div>\n",
       "<table border=\"1\" class=\"dataframe\">\n",
       "  <thead>\n",
       "    <tr style=\"text-align: right;\">\n",
       "      <th></th>\n",
       "      <th>castle_1</th>\n",
       "      <th>castle_10</th>\n",
       "      <th>castle_2</th>\n",
       "      <th>castle_3</th>\n",
       "      <th>castle_4</th>\n",
       "      <th>castle_5</th>\n",
       "      <th>castle_6</th>\n",
       "      <th>castle_7</th>\n",
       "      <th>castle_8</th>\n",
       "      <th>castle_9</th>\n",
       "    </tr>\n",
       "  </thead>\n",
       "  <tbody>\n",
       "    <tr>\n",
       "      <th>0</th>\n",
       "      <td>0</td>\n",
       "      <td>0</td>\n",
       "      <td>1</td>\n",
       "      <td>44</td>\n",
       "      <td>0</td>\n",
       "      <td>0</td>\n",
       "      <td>0</td>\n",
       "      <td>53</td>\n",
       "      <td>2</td>\n",
       "      <td>0</td>\n",
       "    </tr>\n",
       "    <tr>\n",
       "      <th>1</th>\n",
       "      <td>0</td>\n",
       "      <td>68</td>\n",
       "      <td>1</td>\n",
       "      <td>0</td>\n",
       "      <td>22</td>\n",
       "      <td>0</td>\n",
       "      <td>0</td>\n",
       "      <td>0</td>\n",
       "      <td>1</td>\n",
       "      <td>8</td>\n",
       "    </tr>\n",
       "    <tr>\n",
       "      <th>2</th>\n",
       "      <td>7</td>\n",
       "      <td>0</td>\n",
       "      <td>59</td>\n",
       "      <td>0</td>\n",
       "      <td>0</td>\n",
       "      <td>0</td>\n",
       "      <td>0</td>\n",
       "      <td>0</td>\n",
       "      <td>2</td>\n",
       "      <td>32</td>\n",
       "    </tr>\n",
       "    <tr>\n",
       "      <th>3</th>\n",
       "      <td>1</td>\n",
       "      <td>0</td>\n",
       "      <td>0</td>\n",
       "      <td>1</td>\n",
       "      <td>2</td>\n",
       "      <td>1</td>\n",
       "      <td>41</td>\n",
       "      <td>0</td>\n",
       "      <td>39</td>\n",
       "      <td>15</td>\n",
       "    </tr>\n",
       "    <tr>\n",
       "      <th>4</th>\n",
       "      <td>15</td>\n",
       "      <td>26</td>\n",
       "      <td>0</td>\n",
       "      <td>0</td>\n",
       "      <td>13</td>\n",
       "      <td>9</td>\n",
       "      <td>32</td>\n",
       "      <td>0</td>\n",
       "      <td>5</td>\n",
       "      <td>0</td>\n",
       "    </tr>\n",
       "  </tbody>\n",
       "</table>\n",
       "</div>"
      ],
      "text/plain": [
       "   castle_1  castle_10  castle_2  castle_3  castle_4  castle_5  castle_6  \\\n",
       "0         0          0         1        44         0         0         0   \n",
       "1         0         68         1         0        22         0         0   \n",
       "2         7          0        59         0         0         0         0   \n",
       "3         1          0         0         1         2         1        41   \n",
       "4        15         26         0         0        13         9        32   \n",
       "\n",
       "   castle_7  castle_8  castle_9  \n",
       "0        53         2         0  \n",
       "1         0         1         8  \n",
       "2         0         2        32  \n",
       "3         0        39        15  \n",
       "4         0         5         0  "
      ]
     },
     "execution_count": 12,
     "metadata": {},
     "output_type": "execute_result"
    }
   ],
   "source": [
    "p1_df.head()"
   ]
  },
  {
   "cell_type": "markdown",
   "metadata": {},
   "source": [
    "## Winning Distributions"
   ]
  },
  {
   "cell_type": "code",
   "execution_count": 13,
   "metadata": {},
   "outputs": [],
   "source": [
    "def get_winning_distributions(row):\n",
    "    if row.points_2 > row.points_1:\n",
    "        return (row.distribution_2, row.points_2)\n",
    "    if row.points_2 < row.points_1:\n",
    "        return (row.distribution_1, row.points_1)\n",
    "    else:\n",
    "        return np.nan"
   ]
  },
  {
   "cell_type": "code",
   "execution_count": 14,
   "metadata": {},
   "outputs": [
    {
     "data": {
      "text/plain": [
       "game_948      ([0, 0, 2, 61, 0, 2, 27, 1, 5, 2], 37.0)\n",
       "game_3211       ([1, 0, 1, 2, 3, 1, 0, 70, 2, 19], 40)\n",
       "game_6163      ([55, 0, 2, 12, 0, 1, 1, 16, 7, 6], 29)\n",
       "game_3505    ([4, 67, 5, 10, 0, 0, 13, 1, 0, 0], 31.5)\n",
       "game_1987    ([0, 14, 0, 0, 12, 70, 0, 0, 4, 0], 30.5)\n",
       "game_6038    ([1, 0, 21, 3, 0, 8, 39, 0, 2, 26], 34.0)\n",
       "game_6451     ([0, 0, 0, 30, 0, 0, 2, 63, 0, 5], 29.5)\n",
       "game_2466    ([0, 0, 67, 13, 0, 0, 0, 6, 1, 13], 35.5)\n",
       "game_2640    ([0, 0, 0, 0, 56, 11, 32, 0, 0, 1], 29.5)\n",
       "game_6284     ([9, 55, 0, 1, 29, 0, 1, 2, 2, 1], 30.0)\n",
       "dtype: object"
      ]
     },
     "execution_count": 14,
     "metadata": {},
     "output_type": "execute_result"
    }
   ],
   "source": [
    "df.sample(10).apply(get_winning_distributions, axis=1)"
   ]
  },
  {
   "cell_type": "code",
   "execution_count": 15,
   "metadata": {},
   "outputs": [],
   "source": [
    "winners = pd.DataFrame(df.apply(get_winning_distributions, axis=1)).dropna()\n",
    "winners.columns = ['data']\n",
    "winners['distribution'] = winners.data.apply(lambda x: x[0])\n",
    "winners['points'] = winners.data.apply(lambda x: x[1])\n",
    "winners.drop('data', axis=1, inplace=True)"
   ]
  },
  {
   "cell_type": "code",
   "execution_count": 16,
   "metadata": {},
   "outputs": [
    {
     "data": {
      "text/html": [
       "<div>\n",
       "<table border=\"1\" class=\"dataframe\">\n",
       "  <thead>\n",
       "    <tr style=\"text-align: right;\">\n",
       "      <th></th>\n",
       "      <th>castle_1</th>\n",
       "      <th>castle_10</th>\n",
       "      <th>castle_2</th>\n",
       "      <th>castle_3</th>\n",
       "      <th>castle_4</th>\n",
       "      <th>castle_5</th>\n",
       "      <th>castle_6</th>\n",
       "      <th>castle_7</th>\n",
       "      <th>castle_8</th>\n",
       "      <th>castle_9</th>\n",
       "      <th>points</th>\n",
       "    </tr>\n",
       "  </thead>\n",
       "  <tbody>\n",
       "    <tr>\n",
       "      <th>0</th>\n",
       "      <td>39</td>\n",
       "      <td>16</td>\n",
       "      <td>0</td>\n",
       "      <td>27</td>\n",
       "      <td>0</td>\n",
       "      <td>0</td>\n",
       "      <td>5</td>\n",
       "      <td>0</td>\n",
       "      <td>5</td>\n",
       "      <td>8</td>\n",
       "      <td>38.5</td>\n",
       "    </tr>\n",
       "    <tr>\n",
       "      <th>1</th>\n",
       "      <td>0</td>\n",
       "      <td>0</td>\n",
       "      <td>1</td>\n",
       "      <td>5</td>\n",
       "      <td>0</td>\n",
       "      <td>0</td>\n",
       "      <td>3</td>\n",
       "      <td>62</td>\n",
       "      <td>29</td>\n",
       "      <td>0</td>\n",
       "      <td>28.0</td>\n",
       "    </tr>\n",
       "    <tr>\n",
       "      <th>2</th>\n",
       "      <td>7</td>\n",
       "      <td>0</td>\n",
       "      <td>59</td>\n",
       "      <td>0</td>\n",
       "      <td>0</td>\n",
       "      <td>0</td>\n",
       "      <td>0</td>\n",
       "      <td>0</td>\n",
       "      <td>2</td>\n",
       "      <td>32</td>\n",
       "      <td>30.5</td>\n",
       "    </tr>\n",
       "    <tr>\n",
       "      <th>3</th>\n",
       "      <td>1</td>\n",
       "      <td>0</td>\n",
       "      <td>0</td>\n",
       "      <td>1</td>\n",
       "      <td>2</td>\n",
       "      <td>1</td>\n",
       "      <td>41</td>\n",
       "      <td>0</td>\n",
       "      <td>39</td>\n",
       "      <td>15</td>\n",
       "      <td>29.0</td>\n",
       "    </tr>\n",
       "    <tr>\n",
       "      <th>4</th>\n",
       "      <td>15</td>\n",
       "      <td>26</td>\n",
       "      <td>0</td>\n",
       "      <td>0</td>\n",
       "      <td>13</td>\n",
       "      <td>9</td>\n",
       "      <td>32</td>\n",
       "      <td>0</td>\n",
       "      <td>5</td>\n",
       "      <td>0</td>\n",
       "      <td>29.5</td>\n",
       "    </tr>\n",
       "  </tbody>\n",
       "</table>\n",
       "</div>"
      ],
      "text/plain": [
       "   castle_1  castle_10  castle_2  castle_3  castle_4  castle_5  castle_6  \\\n",
       "0        39         16         0        27         0         0         5   \n",
       "1         0          0         1         5         0         0         3   \n",
       "2         7          0        59         0         0         0         0   \n",
       "3         1          0         0         1         2         1        41   \n",
       "4        15         26         0         0        13         9        32   \n",
       "\n",
       "   castle_7  castle_8  castle_9  points  \n",
       "0         0         5         8    38.5  \n",
       "1        62        29         0    28.0  \n",
       "2         0         2        32    30.5  \n",
       "3         0        39        15    29.0  \n",
       "4         0         5         0    29.5  "
      ]
     },
     "execution_count": 16,
     "metadata": {},
     "output_type": "execute_result"
    }
   ],
   "source": [
    "wins = pd.DataFrame(get_castle_scores(winners.distribution))\n",
    "wins['points'] = winners['points'].values\n",
    "wins.head()"
   ]
  },
  {
   "cell_type": "code",
   "execution_count": 17,
   "metadata": {},
   "outputs": [
    {
     "data": {
      "image/png": "[encoded data removed]",
      "text/plain": [
       "<matplotlib.figure.Figure at 0x25a75957ef0>"
      ]
     },
     "metadata": {},
     "output_type": "display_data"
    }
   ],
   "source": [
    "# distribution of winning scores\n",
    "wins.points.hist()\n",
    "plt.title('Winning Scores Distribution')\n",
    "plt.show()"
   ]
  },
  {
   "cell_type": "code",
   "execution_count": 18,
   "metadata": {},
   "outputs": [
    {
     "data": {
      "text/html": [
       "<div>\n",
       "<table border=\"1\" class=\"dataframe\">\n",
       "  <thead>\n",
       "    <tr style=\"text-align: right;\">\n",
       "      <th></th>\n",
       "      <th>castle_1</th>\n",
       "      <th>castle_10</th>\n",
       "      <th>castle_2</th>\n",
       "      <th>castle_3</th>\n",
       "      <th>castle_4</th>\n",
       "      <th>castle_5</th>\n",
       "      <th>castle_6</th>\n",
       "      <th>castle_7</th>\n",
       "      <th>castle_8</th>\n",
       "      <th>castle_9</th>\n",
       "      <th>points</th>\n",
       "    </tr>\n",
       "  </thead>\n",
       "  <tbody>\n",
       "    <tr>\n",
       "      <th>count</th>\n",
       "      <td>9749.000000</td>\n",
       "      <td>9749.000000</td>\n",
       "      <td>9749.000000</td>\n",
       "      <td>9749.000000</td>\n",
       "      <td>9749.000000</td>\n",
       "      <td>9749.000000</td>\n",
       "      <td>9749.000000</td>\n",
       "      <td>9749.000000</td>\n",
       "      <td>9749.000000</td>\n",
       "      <td>9749.000000</td>\n",
       "      <td>9749.000000</td>\n",
       "    </tr>\n",
       "    <tr>\n",
       "      <th>mean</th>\n",
       "      <td>8.160632</td>\n",
       "      <td>12.244948</td>\n",
       "      <td>8.610832</td>\n",
       "      <td>8.671659</td>\n",
       "      <td>8.994358</td>\n",
       "      <td>9.636168</td>\n",
       "      <td>10.119602</td>\n",
       "      <td>10.550313</td>\n",
       "      <td>11.033337</td>\n",
       "      <td>11.773823</td>\n",
       "      <td>33.601805</td>\n",
       "    </tr>\n",
       "    <tr>\n",
       "      <th>std</th>\n",
       "      <td>14.073407</td>\n",
       "      <td>17.212612</td>\n",
       "      <td>14.681014</td>\n",
       "      <td>14.495284</td>\n",
       "      <td>14.992135</td>\n",
       "      <td>15.392367</td>\n",
       "      <td>15.793466</td>\n",
       "      <td>16.139201</td>\n",
       "      <td>16.397223</td>\n",
       "      <td>16.899454</td>\n",
       "      <td>4.338419</td>\n",
       "    </tr>\n",
       "    <tr>\n",
       "      <th>min</th>\n",
       "      <td>0.000000</td>\n",
       "      <td>0.000000</td>\n",
       "      <td>0.000000</td>\n",
       "      <td>0.000000</td>\n",
       "      <td>0.000000</td>\n",
       "      <td>0.000000</td>\n",
       "      <td>0.000000</td>\n",
       "      <td>0.000000</td>\n",
       "      <td>0.000000</td>\n",
       "      <td>0.000000</td>\n",
       "      <td>28.000000</td>\n",
       "    </tr>\n",
       "    <tr>\n",
       "      <th>25%</th>\n",
       "      <td>0.000000</td>\n",
       "      <td>0.000000</td>\n",
       "      <td>0.000000</td>\n",
       "      <td>0.000000</td>\n",
       "      <td>0.000000</td>\n",
       "      <td>0.000000</td>\n",
       "      <td>0.000000</td>\n",
       "      <td>0.000000</td>\n",
       "      <td>0.000000</td>\n",
       "      <td>0.000000</td>\n",
       "      <td>30.000000</td>\n",
       "    </tr>\n",
       "    <tr>\n",
       "      <th>50%</th>\n",
       "      <td>1.000000</td>\n",
       "      <td>4.000000</td>\n",
       "      <td>1.000000</td>\n",
       "      <td>1.000000</td>\n",
       "      <td>2.000000</td>\n",
       "      <td>2.000000</td>\n",
       "      <td>2.000000</td>\n",
       "      <td>2.000000</td>\n",
       "      <td>3.000000</td>\n",
       "      <td>3.000000</td>\n",
       "      <td>33.000000</td>\n",
       "    </tr>\n",
       "    <tr>\n",
       "      <th>75%</th>\n",
       "      <td>10.000000</td>\n",
       "      <td>18.000000</td>\n",
       "      <td>10.000000</td>\n",
       "      <td>11.000000</td>\n",
       "      <td>11.000000</td>\n",
       "      <td>12.000000</td>\n",
       "      <td>13.000000</td>\n",
       "      <td>14.000000</td>\n",
       "      <td>16.000000</td>\n",
       "      <td>17.000000</td>\n",
       "      <td>36.500000</td>\n",
       "    </tr>\n",
       "    <tr>\n",
       "      <th>max</th>\n",
       "      <td>71.000000</td>\n",
       "      <td>71.000000</td>\n",
       "      <td>70.000000</td>\n",
       "      <td>71.000000</td>\n",
       "      <td>71.000000</td>\n",
       "      <td>71.000000</td>\n",
       "      <td>71.000000</td>\n",
       "      <td>71.000000</td>\n",
       "      <td>71.000000</td>\n",
       "      <td>71.000000</td>\n",
       "      <td>52.000000</td>\n",
       "    </tr>\n",
       "  </tbody>\n",
       "</table>\n",
       "</div>"
      ],
      "text/plain": [
       "          castle_1    castle_10     castle_2     castle_3     castle_4  \\\n",
       "count  9749.000000  9749.000000  9749.000000  9749.000000  9749.000000   \n",
       "mean      8.160632    12.244948     8.610832     8.671659     8.994358   \n",
       "std      14.073407    17.212612    14.681014    14.495284    14.992135   \n",
       "min       0.000000     0.000000     0.000000     0.000000     0.000000   \n",
       "25%       0.000000     0.000000     0.000000     0.000000     0.000000   \n",
       "50%       1.000000     4.000000     1.000000     1.000000     2.000000   \n",
       "75%      10.000000    18.000000    10.000000    11.000000    11.000000   \n",
       "max      71.000000    71.000000    70.000000    71.000000    71.000000   \n",
       "\n",
       "          castle_5     castle_6     castle_7     castle_8     castle_9  \\\n",
       "count  9749.000000  9749.000000  9749.000000  9749.000000  9749.000000   \n",
       "mean      9.636168    10.119602    10.550313    11.033337    11.773823   \n",
       "std      15.392367    15.793466    16.139201    16.397223    16.899454   \n",
       "min       0.000000     0.000000     0.000000     0.000000     0.000000   \n",
       "25%       0.000000     0.000000     0.000000     0.000000     0.000000   \n",
       "50%       2.000000     2.000000     2.000000     3.000000     3.000000   \n",
       "75%      12.000000    13.000000    14.000000    16.000000    17.000000   \n",
       "max      71.000000    71.000000    71.000000    71.000000    71.000000   \n",
       "\n",
       "            points  \n",
       "count  9749.000000  \n",
       "mean     33.601805  \n",
       "std       4.338419  \n",
       "min      28.000000  \n",
       "25%      30.000000  \n",
       "50%      33.000000  \n",
       "75%      36.500000  \n",
       "max      52.000000  "
      ]
     },
     "execution_count": 18,
     "metadata": {},
     "output_type": "execute_result"
    }
   ],
   "source": [
    "wins.describe()"
   ]
  },
  {
   "cell_type": "code",
   "execution_count": 19,
   "metadata": {},
   "outputs": [
    {
     "data": {
      "text/plain": [
       "castle_1      8.160632\n",
       "castle_10    12.244948\n",
       "castle_2      8.610832\n",
       "castle_3      8.671659\n",
       "castle_4      8.994358\n",
       "castle_5      9.636168\n",
       "castle_6     10.119602\n",
       "castle_7     10.550313\n",
       "castle_8     11.033337\n",
       "castle_9     11.773823\n",
       "Name: mean, dtype: float64"
      ]
     },
     "execution_count": 19,
     "metadata": {},
     "output_type": "execute_result"
    }
   ],
   "source": [
    "means = wins.describe().loc['mean'][:10]\n",
    "means"
   ]
  },
  {
   "cell_type": "code",
   "execution_count": 41,
   "metadata": {},
   "outputs": [],
   "source": [
    "int_scores = [8, 8, 9, 10, 10, 10, 10, 11, 12, 12]"
   ]
  },
  {
   "cell_type": "code",
   "execution_count": 42,
   "metadata": {},
   "outputs": [
    {
     "data": {
      "text/plain": [
       "100"
      ]
     },
     "execution_count": 42,
     "metadata": {},
     "output_type": "execute_result"
    }
   ],
   "source": [
    "sum(int_scores)"
   ]
  },
  {
   "cell_type": "markdown",
   "metadata": {},
   "source": [
    "## Test new player strategy against random opponent\n"
   ]
  },
  {
   "cell_type": "code",
   "execution_count": 51,
   "metadata": {
    "collapsed": true
   },
   "outputs": [],
   "source": [
    "master = Player('Master', assignment=int_scores)\n",
    "random_player = Player('Barbarian', None)"
   ]
  },
  {
   "cell_type": "code",
   "execution_count": 52,
   "metadata": {
    "collapsed": true
   },
   "outputs": [],
   "source": [
    "test_games = {}\n",
    "for i in range(10000):\n",
    "    test_games['test_game_{}'.format(i)] = test_strat(master,random_player, verbose=0)"
   ]
  },
  {
   "cell_type": "code",
   "execution_count": 53,
   "metadata": {
    "collapsed": true
   },
   "outputs": [],
   "source": [
    "chall = pd.DataFrame(test_games).T\n",
    "chall.columns = ['distribution_1', 'distribution_2', 'points_1', 'points_2', 'winner']"
   ]
  },
  {
   "cell_type": "code",
   "execution_count": 54,
   "metadata": {},
   "outputs": [
    {
     "data": {
      "text/html": [
       "<div>\n",
       "<table border=\"1\" class=\"dataframe\">\n",
       "  <thead>\n",
       "    <tr style=\"text-align: right;\">\n",
       "      <th></th>\n",
       "      <th>distribution_1</th>\n",
       "      <th>distribution_2</th>\n",
       "      <th>points_1</th>\n",
       "      <th>points_2</th>\n",
       "      <th>winner</th>\n",
       "    </tr>\n",
       "  </thead>\n",
       "  <tbody>\n",
       "    <tr>\n",
       "      <th>test_game_0</th>\n",
       "      <td>[8, 8, 9, 10, 10, 10, 10, 11, 12, 12]</td>\n",
       "      <td>[0, 21, 0, 44, 0, 3, 29, 0, 2, 1]</td>\n",
       "      <td>42</td>\n",
       "      <td>13</td>\n",
       "      <td>Player Master</td>\n",
       "    </tr>\n",
       "    <tr>\n",
       "      <th>test_game_1</th>\n",
       "      <td>[8, 8, 9, 10, 10, 10, 10, 11, 12, 12]</td>\n",
       "      <td>[0, 1, 0, 56, 0, 1, 4, 24, 14, 0]</td>\n",
       "      <td>34</td>\n",
       "      <td>21</td>\n",
       "      <td>Player Master</td>\n",
       "    </tr>\n",
       "    <tr>\n",
       "      <th>test_game_10</th>\n",
       "      <td>[8, 8, 9, 10, 10, 10, 10, 11, 12, 12]</td>\n",
       "      <td>[20, 1, 0, 7, 3, 1, 0, 0, 68, 0]</td>\n",
       "      <td>45</td>\n",
       "      <td>10</td>\n",
       "      <td>Player Master</td>\n",
       "    </tr>\n",
       "    <tr>\n",
       "      <th>test_game_100</th>\n",
       "      <td>[8, 8, 9, 10, 10, 10, 10, 11, 12, 12]</td>\n",
       "      <td>[0, 6, 0, 0, 47, 0, 0, 0, 47, 0]</td>\n",
       "      <td>41</td>\n",
       "      <td>14</td>\n",
       "      <td>Player Master</td>\n",
       "    </tr>\n",
       "    <tr>\n",
       "      <th>test_game_1000</th>\n",
       "      <td>[8, 8, 9, 10, 10, 10, 10, 11, 12, 12]</td>\n",
       "      <td>[0, 7, 1, 1, 0, 0, 25, 25, 41, 0]</td>\n",
       "      <td>31</td>\n",
       "      <td>24</td>\n",
       "      <td>Player Master</td>\n",
       "    </tr>\n",
       "  </tbody>\n",
       "</table>\n",
       "</div>"
      ],
      "text/plain": [
       "                                       distribution_1  \\\n",
       "test_game_0     [8, 8, 9, 10, 10, 10, 10, 11, 12, 12]   \n",
       "test_game_1     [8, 8, 9, 10, 10, 10, 10, 11, 12, 12]   \n",
       "test_game_10    [8, 8, 9, 10, 10, 10, 10, 11, 12, 12]   \n",
       "test_game_100   [8, 8, 9, 10, 10, 10, 10, 11, 12, 12]   \n",
       "test_game_1000  [8, 8, 9, 10, 10, 10, 10, 11, 12, 12]   \n",
       "\n",
       "                                   distribution_2 points_1 points_2  \\\n",
       "test_game_0     [0, 21, 0, 44, 0, 3, 29, 0, 2, 1]       42       13   \n",
       "test_game_1     [0, 1, 0, 56, 0, 1, 4, 24, 14, 0]       34       21   \n",
       "test_game_10     [20, 1, 0, 7, 3, 1, 0, 0, 68, 0]       45       10   \n",
       "test_game_100    [0, 6, 0, 0, 47, 0, 0, 0, 47, 0]       41       14   \n",
       "test_game_1000  [0, 7, 1, 1, 0, 0, 25, 25, 41, 0]       31       24   \n",
       "\n",
       "                       winner  \n",
       "test_game_0     Player Master  \n",
       "test_game_1     Player Master  \n",
       "test_game_10    Player Master  \n",
       "test_game_100   Player Master  \n",
       "test_game_1000  Player Master  "
      ]
     },
     "execution_count": 54,
     "metadata": {},
     "output_type": "execute_result"
    }
   ],
   "source": [
    "chall.head()"
   ]
  },
  {
   "cell_type": "markdown",
   "metadata": {},
   "source": []
  },
  {
   "cell_type": "code",
   "execution_count": null,
   "metadata": {
    "collapsed": true
   },
   "outputs": [],
   "source": []
  }
 ],
 "metadata": {
  "kernelspec": {
   "display_name": "Python 3",
   "language": "python",
   "name": "python3"
  },
  "language_info": {
   "codemirror_mode": {
    "name": "ipython",
    "version": 3
   },
   "file_extension": ".py",
   "mimetype": "text/x-python",
   "name": "python",
   "nbconvert_exporter": "python",
   "pygments_lexer": "ipython3",
   "version": "3.6.0"
  }
 },
 "nbformat": 4,
 "nbformat_minor": 2
}
