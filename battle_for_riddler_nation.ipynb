{
 "cells": [
  {
   "cell_type": "markdown",
   "metadata": {},
   "source": [
    "# Battle for Riddler Nation!\n",
    "## Riddler Classic May 19 2017\n",
    "\n",
    "Simulate [castle game from Riddler](http://fivethirtyeight.com/features/the-battle-for-riddler-nation-round-2/)\n",
    "Create two classes, a `Player` and a `Castle`. Then we assign the soldiers to the castles and evaluate the result. I'll do 10,000 simulations. \n",
    "\n",
    "## Classes"
   ]
  },
  {
   "cell_type": "code",
   "execution_count": 106,
   "metadata": {
    "collapsed": true
   },
   "outputs": [],
   "source": [
    "class Player(object):\n",
    "    def __init__(self, name, assignment, points=0):\n",
    "        self.name = 'Player {}'.format(name)\n",
    "        self.assignment = assignment\n",
    "        self.points=0\n",
    "        \n",
    "    def deploy_troops_randomly(self):\n",
    "        from numpy.random import randint, permutation\n",
    "        order = []\n",
    "        soldiers_remaining = 101\n",
    "        for i in range(10):\n",
    "            soldiers = randint(0, soldiers_remaining)\n",
    "            if soldiers > 80:\n",
    "                soldiers = randint(0, soldiers_remaining-20) # helps to control for large assignments to one base\n",
    "            order.append(soldiers)\n",
    "            soldiers_remaining -= soldiers\n",
    "            if soldiers_remaining < 0:\n",
    "                remains = 10 - len(order)\n",
    "                for i in range(remains):\n",
    "                    order.append(0)\n",
    "               \n",
    "        self.assignment = permutation(order)\n",
    "        return np.array(self.assignment)\n",
    "            \n",
    "            \n",
    "class Castle(object):\n",
    "    # create the castles for the competition\n",
    "    def __init__(self, name, points, soldiers_1, soldiers_2):\n",
    "        self.name = name\n",
    "        self.points = points\n",
    "        self.soldiers_1 = soldiers_1\n",
    "        self.soldiers_2 = soldiers_2\n",
    "        \n",
    "    def battle(self, player_1, player_2):\n",
    "        if self.soldiers_1 > self.soldiers_2:\n",
    "            player_1.points += self.points\n",
    "        if self.soldiers_1 < self.soldiers_2:\n",
    "            player_2.points += self.points\n",
    "        if self.soldiers_1 == self.soldiers_2:\n",
    "            player_1.points += self.points/2.0\n",
    "            player_2.points += self.points/2.0\n",
    "    def info(self):\n",
    "        print(\"Castle Name: {}\".format(self.name), \"Victory Points: {}\".format(self.points), \n",
    "              \"Player 1 Soldiers: {}\".format(self.soldiers_1), \"Player 2 Soldiers: {}\".format(self.soldiers_2), '\\n', sep='\\n',)"
   ]
  },
  {
   "cell_type": "markdown",
   "metadata": {},
   "source": [
    "## Functions and gameplay"
   ]
  },
  {
   "cell_type": "code",
   "execution_count": 131,
   "metadata": {
    "collapsed": true
   },
   "outputs": [],
   "source": [
    "def Play_normal(player_1, player_2, verbose=0):\n",
    "    player_1.points=0\n",
    "    player_2.points=0\n",
    "    player_1.deploy_troops_randomly()\n",
    "    player_2.deploy_troops_randomly()\n",
    "    player_1_assignment = player_1.assignment\n",
    "    player_2_assignment = player_2.assignment\n",
    "    castle_dict = {}\n",
    "    for i in range(10):\n",
    "        castle_dict['Castle {}'.format(i+1)] = Castle(name='Castle {}'.format(i+1), points = i+1, soldiers_1=player_1_assignment[i], soldiers_2=player_2_assignment[i])\n",
    "    for castle in castle_dict.values():\n",
    "        if verbose>0: castle.info()\n",
    "        castle.battle(player_1, player_2)\n",
    "    if verbose>0: \n",
    "        print(player_1.name, \":\", player_1.points, player_2.name,\":\", player_2.points)\n",
    "        if player_1.points>player_2.points: print(player_1.name, 'Wins!')\n",
    "        elif player_1.points<player_2.points: print(player_2.name, 'Wins!')\n",
    "        else: print(\"TIE?!\")\n",
    "    if player_1.points>player_2.points: winner=player_1.name\n",
    "    if player_1.points<player_2.points: winner=player_2.name\n",
    "    elif player_1.points==player_2.points: winner = 0\n",
    "    \n",
    "    return (player_1_assignment, player_2_assignment, player_1.points, player_2.points, winner)\n",
    "    \n",
    "        \n",
    "def Play_random(player_1, player_2, verbose=0):\n",
    "    player_1.points=0\n",
    "    player_2.points=0\n",
    "    player_1.deploy_troops_randomly()\n",
    "    player_2.deploy_troops_randomly()\n",
    "    player_1_assignment = player_1.assignment\n",
    "    player_2_assignment = player_2.assignment\n",
    "    castle_dict = {}\n",
    "    for i in range(10):\n",
    "        castle_dict['Castle {}'.format(i+1)] = Castle(name='Castle {}'.format(i+1), points = i+1, soldiers_1=player_1_assignment[i], soldiers_2=player_2_assignment[i])\n",
    "    for castle in castle_dict.values():\n",
    "        if verbose>0: castle.info()\n",
    "        castle.battle(player_1, player_2)\n",
    "    if verbose>0: \n",
    "        print(player_1.name, \":\", player_1.points, player_2.name,\":\", player_2.points)\n",
    "        if player_1.points>player_2.points: print(player_1.name, 'Wins!')\n",
    "        elif player_1.points<player_2.points: print(player_2.name, 'Wins!')\n",
    "        else: print(\"TIE?!\")\n",
    "    if player_1.points>player_2.points: winner=player_1.name\n",
    "    if player_1.points<player_2.points: winner=player_2.name\n",
    "    elif player_1.points==player_2.points: winner = 0\n",
    "    \n",
    "    return (player_1_assignment, player_2_assignment, player_1.points, player_2.points, winner)\n",
    "    \n",
    "def test_strat(player_1, player_2, verbose=0):\n",
    "    player_1.points=0\n",
    "    player_2.points=0\n",
    "    # player_1.deploy_troops_randomly() ## this means we'll compare one distribution against random\n",
    "    player_2.deploy_troops_randomly()\n",
    "    player_1_assignment = player_1.assignment\n",
    "    player_2_assignment = player_2.assignment\n",
    "    castle_dict = {}\n",
    "    for i in range(10):\n",
    "        castle_dict['Castle {}'.format(i+1)] = Castle(name='Castle {}'.format(i+1), points = i+1, soldiers_1=player_1_assignment[i], soldiers_2=player_2_assignment[i])\n",
    "    for castle in castle_dict.values():\n",
    "        if verbose>0: castle.info()\n",
    "        castle.battle(player_1, player_2)\n",
    "    if verbose>0: \n",
    "        print(player_1.name, \":\", player_1.points, player_2.name,\":\", player_2.points)\n",
    "        if player_1.points>player_2.points: print(player_1.name, 'Wins!')\n",
    "        elif player_1.points<player_2.points: print(player_2.name, 'Wins!')\n",
    "        else: print(\"TIE?!\")\n",
    "    if player_1.points>player_2.points: winner=player_1.name\n",
    "    if player_1.points<player_2.points: winner=player_2.name\n",
    "    elif player_1.points==player_2.points: winner = 0\n",
    "    \n",
    "    return (player_1_assignment, player_2_assignment, player_1.points, player_2.points, winner)\n",
    "          "
   ]
  },
  {
   "cell_type": "markdown",
   "metadata": {},
   "source": [
    "## One simulation"
   ]
  },
  {
   "cell_type": "code",
   "execution_count": 121,
   "metadata": {
    "collapsed": true
   },
   "outputs": [],
   "source": [
    "p1 = Player('Adam', None)\n",
    "p2 = Player('Evil Invader', None)\n",
    "import numpy as np"
   ]
  },
  {
   "cell_type": "code",
   "execution_count": 122,
   "metadata": {
    "scrolled": true
   },
   "outputs": [
    {
     "data": {
      "text/plain": [
       "(array([ 0, 51, 41,  0,  0,  0,  4,  0,  0,  4]),\n",
       " array([ 0,  3,  9, 78,  0,  0,  0,  0, 10,  0]),\n",
       " 32.0,\n",
       " 23.0,\n",
       " 'Player Adam')"
      ]
     },
     "execution_count": 122,
     "metadata": {},
     "output_type": "execute_result"
    }
   ],
   "source": [
    "Play_random(p1,p2, verbose=0)"
   ]
  },
  {
   "cell_type": "markdown",
   "metadata": {},
   "source": [
    "## Many simulations"
   ]
  },
  {
   "cell_type": "code",
   "execution_count": 123,
   "metadata": {
    "collapsed": true
   },
   "outputs": [],
   "source": [
    "import pandas as pd\n",
    "import matplotlib.pyplot as plt\n",
    "plt.style.use('ggplot')\n",
    "%matplotlib inline"
   ]
  },
  {
   "cell_type": "code",
   "execution_count": 124,
   "metadata": {},
   "outputs": [],
   "source": [
    "games = {}\n",
    "for i in range(10000):\n",
    "    games['game_{}'.format(i)] = Play_random(p1,p2, verbose=0)"
   ]
  },
  {
   "cell_type": "code",
   "execution_count": 125,
   "metadata": {
    "collapsed": true
   },
   "outputs": [],
   "source": [
    "df = pd.DataFrame(games).T\n",
    "df.columns = ['distribution_1', 'distribution_2', 'points_1', 'points_2', 'winner']"
   ]
  },
  {
   "cell_type": "code",
   "execution_count": 133,
   "metadata": {},
   "outputs": [
    {
     "data": {
      "text/html": [
       "<div>\n",
       "<table border=\"1\" class=\"dataframe\">\n",
       "  <thead>\n",
       "    <tr style=\"text-align: right;\">\n",
       "      <th></th>\n",
       "      <th>distribution_1</th>\n",
       "      <th>distribution_2</th>\n",
       "      <th>points_1</th>\n",
       "      <th>points_2</th>\n",
       "      <th>winner</th>\n",
       "    </tr>\n",
       "  </thead>\n",
       "  <tbody>\n",
       "    <tr>\n",
       "      <th>game_6673</th>\n",
       "      <td>[0, 24, 4, 0, 4, 0, 0, 44, 2, 22]</td>\n",
       "      <td>[16, 0, 0, 3, 3, 0, 15, 57, 6, 0]</td>\n",
       "      <td>23</td>\n",
       "      <td>32</td>\n",
       "      <td>Player Evil Invader</td>\n",
       "    </tr>\n",
       "    <tr>\n",
       "      <th>game_5159</th>\n",
       "      <td>[13, 62, 0, 22, 0, 0, 0, 3, 0, 0]</td>\n",
       "      <td>[25, 16, 16, 0, 13, 0, 26, 0, 3, 1]</td>\n",
       "      <td>17</td>\n",
       "      <td>38</td>\n",
       "      <td>Player Evil Invader</td>\n",
       "    </tr>\n",
       "    <tr>\n",
       "      <th>game_7194</th>\n",
       "      <td>[0, 14, 19, 0, 0, 2, 36, 1, 6, 22]</td>\n",
       "      <td>[0, 0, 2, 0, 20, 77, 1, 0, 0, 0]</td>\n",
       "      <td>41.5</td>\n",
       "      <td>13.5</td>\n",
       "      <td>Player Adam</td>\n",
       "    </tr>\n",
       "    <tr>\n",
       "      <th>game_1711</th>\n",
       "      <td>[0, 8, 0, 9, 5, 9, 0, 0, 69, 0]</td>\n",
       "      <td>[5, 49, 0, 0, 30, 2, 6, 0, 6, 1]</td>\n",
       "      <td>24.5</td>\n",
       "      <td>30.5</td>\n",
       "      <td>Player Evil Invader</td>\n",
       "    </tr>\n",
       "  </tbody>\n",
       "</table>\n",
       "</div>"
      ],
      "text/plain": [
       "                               distribution_1  \\\n",
       "game_6673   [0, 24, 4, 0, 4, 0, 0, 44, 2, 22]   \n",
       "game_5159   [13, 62, 0, 22, 0, 0, 0, 3, 0, 0]   \n",
       "game_7194  [0, 14, 19, 0, 0, 2, 36, 1, 6, 22]   \n",
       "game_1711     [0, 8, 0, 9, 5, 9, 0, 0, 69, 0]   \n",
       "\n",
       "                                distribution_2 points_1 points_2  \\\n",
       "game_6673    [16, 0, 0, 3, 3, 0, 15, 57, 6, 0]       23       32   \n",
       "game_5159  [25, 16, 16, 0, 13, 0, 26, 0, 3, 1]       17       38   \n",
       "game_7194     [0, 0, 2, 0, 20, 77, 1, 0, 0, 0]     41.5     13.5   \n",
       "game_1711     [5, 49, 0, 0, 30, 2, 6, 0, 6, 1]     24.5     30.5   \n",
       "\n",
       "                        winner  \n",
       "game_6673  Player Evil Invader  \n",
       "game_5159  Player Evil Invader  \n",
       "game_7194          Player Adam  \n",
       "game_1711  Player Evil Invader  "
      ]
     },
     "execution_count": 133,
     "metadata": {},
     "output_type": "execute_result"
    }
   ],
   "source": [
    "df.sample(4)"
   ]
  },
  {
   "cell_type": "code",
   "execution_count": 127,
   "metadata": {},
   "outputs": [],
   "source": [
    "def get_castle_scores(series):\n",
    "    distribution_set = series.values # get the distribution arrays\n",
    "    distribuion_dict = {} #store them in a new dict\n",
    "    for i in range(10):\n",
    "        distribuion_dict['castle_{}'.format(i+1)] = []\n",
    "    for distribution in distribution_set:\n",
    "        for i in range(10):\n",
    "            distribuion_dict['castle_{}'.format(i+1)].append(distribution[i])\n",
    "    return distribuion_dict          "
   ]
  },
  {
   "cell_type": "code",
   "execution_count": 132,
   "metadata": {
    "collapsed": true
   },
   "outputs": [],
   "source": [
    "player_1_distributions = get_castle_scores(df.distribution_1)\n",
    "player_2_distributions = get_castle_scores(df.distribution_2)"
   ]
  },
  {
   "cell_type": "code",
   "execution_count": 135,
   "metadata": {},
   "outputs": [],
   "source": [
    "p1_df = pd.DataFrame(player_1_distributions)\n",
    "p2_df = pd.DataFrame(player_2_distributions)"
   ]
  },
  {
   "cell_type": "code",
   "execution_count": 136,
   "metadata": {},
   "outputs": [
    {
     "data": {
      "text/html": [
       "<div>\n",
       "<table border=\"1\" class=\"dataframe\">\n",
       "  <thead>\n",
       "    <tr style=\"text-align: right;\">\n",
       "      <th></th>\n",
       "      <th>castle_1</th>\n",
       "      <th>castle_10</th>\n",
       "      <th>castle_2</th>\n",
       "      <th>castle_3</th>\n",
       "      <th>castle_4</th>\n",
       "      <th>castle_5</th>\n",
       "      <th>castle_6</th>\n",
       "      <th>castle_7</th>\n",
       "      <th>castle_8</th>\n",
       "      <th>castle_9</th>\n",
       "    </tr>\n",
       "  </thead>\n",
       "  <tbody>\n",
       "    <tr>\n",
       "      <th>0</th>\n",
       "      <td>5</td>\n",
       "      <td>0</td>\n",
       "      <td>0</td>\n",
       "      <td>0</td>\n",
       "      <td>33</td>\n",
       "      <td>7</td>\n",
       "      <td>10</td>\n",
       "      <td>3</td>\n",
       "      <td>8</td>\n",
       "      <td>34</td>\n",
       "    </tr>\n",
       "    <tr>\n",
       "      <th>1</th>\n",
       "      <td>0</td>\n",
       "      <td>26</td>\n",
       "      <td>0</td>\n",
       "      <td>3</td>\n",
       "      <td>0</td>\n",
       "      <td>0</td>\n",
       "      <td>54</td>\n",
       "      <td>0</td>\n",
       "      <td>15</td>\n",
       "      <td>2</td>\n",
       "    </tr>\n",
       "    <tr>\n",
       "      <th>2</th>\n",
       "      <td>4</td>\n",
       "      <td>0</td>\n",
       "      <td>11</td>\n",
       "      <td>1</td>\n",
       "      <td>0</td>\n",
       "      <td>10</td>\n",
       "      <td>4</td>\n",
       "      <td>70</td>\n",
       "      <td>0</td>\n",
       "      <td>0</td>\n",
       "    </tr>\n",
       "    <tr>\n",
       "      <th>3</th>\n",
       "      <td>8</td>\n",
       "      <td>0</td>\n",
       "      <td>50</td>\n",
       "      <td>21</td>\n",
       "      <td>0</td>\n",
       "      <td>19</td>\n",
       "      <td>0</td>\n",
       "      <td>0</td>\n",
       "      <td>2</td>\n",
       "      <td>0</td>\n",
       "    </tr>\n",
       "    <tr>\n",
       "      <th>4</th>\n",
       "      <td>0</td>\n",
       "      <td>15</td>\n",
       "      <td>72</td>\n",
       "      <td>1</td>\n",
       "      <td>0</td>\n",
       "      <td>0</td>\n",
       "      <td>0</td>\n",
       "      <td>12</td>\n",
       "      <td>0</td>\n",
       "      <td>0</td>\n",
       "    </tr>\n",
       "  </tbody>\n",
       "</table>\n",
       "</div>"
      ],
      "text/plain": [
       "   castle_1  castle_10  castle_2  castle_3  castle_4  castle_5  castle_6  \\\n",
       "0         5          0         0         0        33         7        10   \n",
       "1         0         26         0         3         0         0        54   \n",
       "2         4          0        11         1         0        10         4   \n",
       "3         8          0        50        21         0        19         0   \n",
       "4         0         15        72         1         0         0         0   \n",
       "\n",
       "   castle_7  castle_8  castle_9  \n",
       "0         3         8        34  \n",
       "1         0        15         2  \n",
       "2        70         0         0  \n",
       "3         0         2         0  \n",
       "4        12         0         0  "
      ]
     },
     "execution_count": 136,
     "metadata": {},
     "output_type": "execute_result"
    }
   ],
   "source": [
    "p1_df.head()"
   ]
  },
  {
   "cell_type": "code",
   "execution_count": 139,
   "metadata": {
    "scrolled": false
   },
   "outputs": [
    {
     "data": {
      "image/png": "[encoded data removed]",
      "text/plain": [
       "<matplotlib.figure.Figure at 0x1cfec7adf60>"
      ]
     },
     "metadata": {},
     "output_type": "display_data"
    },
    {
     "data": {
      "image/png": "[encoded data removed]",
      "text/plain": [
       "<matplotlib.figure.Figure at 0x1cfec6e4b38>"
      ]
     },
     "metadata": {},
     "output_type": "display_data"
    },
    {
     "data": {
      "image/png": "[encoded data removed]",
      "text/plain": [
       "<matplotlib.figure.Figure at 0x1cfec6ce8d0>"
      ]
     },
     "metadata": {},
     "output_type": "display_data"
    },
    {
     "data": {
      "image/png": "[encoded data removed]",
      "text/plain": [
       "<matplotlib.figure.Figure at 0x1cfec516400>"
      ]
     },
     "metadata": {},
     "output_type": "display_data"
    },
    {
     "data": {
      "image/png": "[encoded data removed]",
      "text/plain": [
       "<matplotlib.figure.Figure at 0x1cfec49f400>"
      ]
     },
     "metadata": {},
     "output_type": "display_data"
    },
    {
     "data": {
      "image/png": "[encoded data removed]",
      "text/plain": [
       "<matplotlib.figure.Figure at 0x1cfec6d29b0>"
      ]
     },
     "metadata": {},
     "output_type": "display_data"
    },
    {
     "data": {
      "image/png": "[encoded data removed]",
      "text/plain": [
       "<matplotlib.figure.Figure at 0x1cfec9eb898>"
      ]
     },
     "metadata": {},
     "output_type": "display_data"
    },
    {
     "data": {
      "image/png": "[encoded data removed]",
      "text/plain": [
       "<matplotlib.figure.Figure at 0x1cfeca30128>"
      ]
     },
     "metadata": {},
     "output_type": "display_data"
    },
    {
     "data": {
      "image/png": "[encoded data removed]",
      "text/plain": [
       "<matplotlib.figure.Figure at 0x1cfecb8af60>"
      ]
     },
     "metadata": {},
     "output_type": "display_data"
    },
    {
     "data": {
      "image/png": "[encoded data removed]",
      "text/plain": [
       "<matplotlib.figure.Figure at 0x1cfea986e10>"
      ]
     },
     "metadata": {},
     "output_type": "display_data"
    }
   ],
   "source": [
    "for i in range(10):\n",
    "    p1_df['castle_{}'.format(i+1)].hist()\n",
    "    plt.title('castle_{}'.format(i+1))\n",
    "    plt.show()"
   ]
  },
  {
   "cell_type": "code",
   "execution_count": null,
   "metadata": {
    "collapsed": true
   },
   "outputs": [],
   "source": []
  }
 ],
 "metadata": {
  "kernelspec": {
   "display_name": "Python 3",
   "language": "python",
   "name": "python3"
  },
  "language_info": {
   "codemirror_mode": {
    "name": "ipython",
    "version": 3
   },
   "file_extension": ".py",
   "mimetype": "text/x-python",
   "name": "python",
   "nbconvert_exporter": "python",
   "pygments_lexer": "ipython3",
   "version": "3.6.0"
  }
 },
 "nbformat": 4,
 "nbformat_minor": 2
}
